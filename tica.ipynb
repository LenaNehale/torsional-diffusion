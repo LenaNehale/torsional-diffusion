{
 "cells": [
  {
   "cell_type": "code",
   "execution_count": 1,
   "metadata": {},
   "outputs": [],
   "source": [
    "import numpy as np\n",
    "import matplotlib.pyplot as plt\n",
    "from msmbuilder.decomposition import tICA\n",
    "from scipy.spatial.distance import pdist\n",
    "from matplotlib.colors import LogNorm\n",
    "import pickle"
   ]
  },
  {
   "cell_type": "code",
   "execution_count": null,
   "metadata": {},
   "outputs": [],
   "source": [
    "# TICA plots for generated vs ground truth vs random conformers  \n",
    "\n",
    "def make_tica_plots(md_trajs, generated_confs, rand_confs):\n",
    "    '''\n",
    "    Generates TICA plots for ground truth, generated and random conformers.\n",
    "\n",
    "    Args:\n",
    "\n",
    "        - gt_confs: dict , keys are smiles and values are an md simulation of shape (time, n_atoms, 3)\n",
    "        - generated_confs: dict , keys are smiles and values are tensors of generated 3D positions\n",
    "        - rand_confs: dict , keys are smiles and values are tensors of random 3D positions\n",
    "\n",
    "    Returns:\n",
    "        3 figures for each smile, each showing the TICA plots for generated, ground truth and random conformers. Note that the TICA components are computed using the pairwise distances between atoms of the ground truth MD.\n",
    "    '''\n",
    "    assert md_trajs.keys() == generated_confs.keys() == rand_confs.keys()        \n",
    "    smis = md_trajs.keys()\n",
    "    for smi in smis: \n",
    "        assert len(md_trajs[smi].shape[1]) == len(generated_confs[smi].shape[1]) == len(rand_confs[smi].shape[1]) # all have the same number of atoms\n",
    "    n_smis = len(smis)\n",
    "\n",
    "    for smi in smis: \n",
    "        fig, axes = plt.subplots(n_smis // 3, 3, figsize=(10, 5))\n",
    "        mdtraj = md_trajs[smi]\n",
    "        # fit tica to MD\n",
    "        md_pairwise_dists = np.array([pdist(mdtraj[i]) for i in range(len(mdtraj))])\n",
    "        tica = tICA(n_components=2, lag_time=100)\n",
    "        transformed = np.array(tica.fit_transform([md_pairwise_dists]))\n",
    "\n",
    "        fig, axes = plt.subplots(1, 3, figsize=(15, 5))\n",
    "        # MD tICA plot\n",
    "        x = transformed[0,:, 0]\n",
    "        y = transformed[0,:, 1]  \n",
    "        axes[0].hist2d(x, y, bins=100, cmap='hot_r', norm=LogNorm())\n",
    "        axes[0].set_title('MD tICA')\n",
    "        axes[0].set_xlabel('1st tIC')\n",
    "        axes[0].set_ylabel('2nd tIC')\n",
    "\n",
    "        # Generated conformers tICA plot\n",
    "        gen_pairwise_dists = np.array([pdist(generated_confs[smi][i]) for i in range(len(generated_confs[smi]))])\n",
    "        transformed_gen = np.array(tica.transform([gen_pairwise_dists]))\n",
    "        x_gen = transformed_gen[0,:, 0]\n",
    "        y_gen = transformed_gen[0,:, 1]\n",
    "        axes[1].hist2d(x_gen, y_gen, bins=100, cmap='hot_r', norm=LogNorm())\n",
    "        axes[1].set_title('Generated tICA')\n",
    "        axes[1].set_xlabel('1st tIC')\n",
    "        axes[1].set_ylabel('2nd tIC')\n",
    "\n",
    "        # Random conformers tICA plot\n",
    "        rand_pairwise_dists = np.array([pdist(rand_confs[smi][i]) for i in range(len(rand_confs[smi]))])\n",
    "        transformed_rand = np.array(tica.transform([rand_pairwise_dists]))\n",
    "        x_rand = transformed_rand[0,:, 0]\n",
    "        y_rand = transformed_rand[0,:, 1]\n",
    "        axes[2].hist2d(x_rand, y_rand, bins=100, cmap='hot_r', norm=LogNorm())\n",
    "        axes[2].set_title('Random tICA')\n",
    "        axes[2].set_xlabel('1st tIC')\n",
    "        axes[2].set_ylabel('2nd tIC')\n",
    "        plt.show()"
   ]
  },
  {
   "cell_type": "markdown",
   "metadata": {},
   "source": [
    "NEXT STEP: Run TorsionalDiffusion on one molecule from the FreeSolv dataset"
   ]
  },
  {
   "cell_type": "markdown",
   "metadata": {},
   "source": []
  }
 ],
 "metadata": {
  "kernelspec": {
   "display_name": "Python 3",
   "language": "python",
   "name": "python3"
  },
  "language_info": {
   "codemirror_mode": {
    "name": "ipython",
    "version": 3
   },
   "file_extension": ".py",
   "mimetype": "text/x-python",
   "name": "python",
   "nbconvert_exporter": "python",
   "pygments_lexer": "ipython3",
   "version": "3.9.19"
  },
  "orig_nbformat": 4
 },
 "nbformat": 4,
 "nbformat_minor": 2
}
