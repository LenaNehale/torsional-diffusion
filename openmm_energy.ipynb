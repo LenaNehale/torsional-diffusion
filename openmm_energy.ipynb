{
 "cells": [
  {
   "cell_type": "code",
   "execution_count": 30,
   "metadata": {},
   "outputs": [],
   "source": [
    "from os import path\n",
    "from typing import Tuple\n",
    "\n",
    "from openmmforcefields.generators import SMIRNOFFTemplateGenerator\n",
    "import mdtraj\n",
    "from openmm import app, unit, Platform, LangevinIntegrator\n",
    "import torch\n",
    "import pandas as pd"
   ]
  },
  {
   "cell_type": "code",
   "execution_count": 31,
   "metadata": {},
   "outputs": [],
   "source": [
    "mol_name = \"mobley_6456034\"\n",
    "component = \"compound\"  # also \"solvated\" for combined system and \"solvent\" for isolated water box\n",
    "temperature = 298.15  # in K\n",
    "freesolv_db_path = \"/rxrx/data/valence/shared_psu_unit/free_energy/solvation/free_solv/database.txt\""
   ]
  },
  {
   "cell_type": "code",
   "execution_count": 32,
   "metadata": {},
   "outputs": [
    {
     "data": {
      "text/plain": [
       "' CC(C)COC(=O)C(C)C'"
      ]
     },
     "execution_count": 32,
     "metadata": {},
     "output_type": "execute_result"
    }
   ],
   "source": [
    "def load_md_inputs(mol_name: str, component: str) -> Tuple[str, str, str]:\n",
    "    \"\"\"Loads MD files extracted from openFE alchemical free energy simulation.\n",
    "\n",
    "    Args:\n",
    "        endpoint_path (str): Path to directory containing endpoints.\n",
    "        component (str): The system compounent to load. Either \"compound\",\n",
    "          \"solvated\" for the combined system or \"solvent\" for the water box.\n",
    "\n",
    "    Returns:\n",
    "        Tuple: Paths to the trajectory, the topology and the forcefield DB.\n",
    "    \"\"\"\n",
    "    # all this loading is hardcoded to the FreeSolv dataset\n",
    "    endpoint_dir = (\"/rxrx/data/valence/shared_psu_unit/free_energy/solvation/\"\n",
    "                    \"experiments/mlip_compatible/trajectories/endpoints\")\n",
    "    endpoint_path = path.join(endpoint_dir, mol_name)\n",
    "    top_path = path.join(endpoint_path, f\"{component}_top.pdb\")\n",
    "    traj_path = path.join(endpoint_path, f\"{component}_traj.dcd\")\n",
    "    if component == \"solvent\":  # solvent and solvated use same FF DB\n",
    "        component = \"solvated\"\n",
    "    db_path = path.join(endpoint_path, f\"{component}_db.json\")\n",
    "    return traj_path, top_path, db_path\n",
    "\n",
    "\n",
    "freesolv_df = pd.read_csv(freesolv_db_path, delimiter=';', skiprows=[0,1])\n",
    "# here I'm assuming that the atom ordering, bond connection etc is the same for\n",
    "#  the SMIRNOFFTemplateGenerator I'm using to build the topology and the ETFlow\n",
    "#  topology generator\n",
    "\n",
    "# TODO: The ETFlow SMILES MolFeaturizer would most likely need to be adjusted to\n",
    "#  properly encode water molecules\n",
    "smiles = freesolv_df[freesolv_df[\"compound_id\"] == mol_name].iloc[0][\"SMILES\"]\n",
    "smiles"
   ]
  },
  {
   "cell_type": "code",
   "execution_count": 33,
   "metadata": {},
   "outputs": [],
   "source": [
    "# FF constants\n",
    "forcefields = ['amber/ff14SB.xml', 'amber/tip3p_standard.xml',\n",
    "               'amber/tip3p_HFE_multivalent.xml', 'amber/phosaa10.xml']\n",
    "small_mol_ff = \"openff-2.1.1\"\n",
    "nonbonded_cutoff = 1. * unit.nanometers"
   ]
  },
  {
   "cell_type": "code",
   "execution_count": 34,
   "metadata": {},
   "outputs": [],
   "source": [
    "class Energy:\n",
    "    def get_energy(self, pos):\n",
    "        raise NotImplementedError\n",
    "\n",
    "    def compute_many(self, confs):\n",
    "        return torch.tensor([self.get_energy(i) for i in confs]).float()\n",
    "\n",
    "class openMMEnergy(Energy):\n",
    "    def __init__(self, trajectory, topology, db_path, temperature, \n",
    "                 with_pbcs=False):\n",
    "        kb = 0.0019872041  # in kcal / mol K\n",
    "        self.kbt = kb * temperature\n",
    "        forcefield = app.ForceField(*forcefields)\n",
    "        template_generator = SMIRNOFFTemplateGenerator(\n",
    "            cache=db_path, forcefield=small_mol_ff)\n",
    "        forcefield.registerTemplateGenerator(template_generator.generator)\n",
    "\n",
    "        mm_traj = mdtraj.load(trajectory, top=topology)\n",
    "        self.init_positions = mm_traj.openmm_positions(0)\n",
    "\n",
    "        pdb = app.PDBFile(topology)\n",
    "        modeller = app.Modeller(pdb.topology, pdb.positions)\n",
    "        platform = Platform.getPlatformByName(\"CUDA\")\n",
    "        integrator = LangevinIntegrator(temperature * unit.kelvin,\n",
    "                                        1., 1. * unit.femtosecond)\n",
    "\n",
    "        if with_pbcs:\n",
    "            box_length = mm_traj.openmm_boxes(0)\n",
    "            nonbonded_method = \"PME\"\n",
    "            pdb.topology.setPeriodicBoxVectors(box_length)\n",
    "        else:\n",
    "            nonbonded_method = app.NoCutoff\n",
    "\n",
    "        system = forcefield.createSystem(\n",
    "            modeller.topology, nonbondedMethod=nonbonded_method,\n",
    "            nonbondedCutoff=nonbonded_cutoff,\n",
    "            rigidWater=False, removeCMMotion=False\n",
    "        )\n",
    "        # print(\"Classical FF forces: \\n\", system.getForces())\n",
    "        self.sim = app.Simulation(modeller.topology, system, integrator,\n",
    "                                  platform)\n",
    "        self.sim.context.setPositions(self.init_positions)\n",
    "\n",
    "        self.sim.minimizeEnergy()\n",
    "        min_energy = self.sim.context.getState(\n",
    "            getEnergy=True).getPotentialEnergy()\n",
    "        print(f\"Minimum energy: \"\n",
    "            f\"{min_energy.value_in_unit(unit.kilocalorie_per_mole)} kcal/mol\")\n",
    "        \n",
    "    def get_energy(self, positions, box_lengths=None):\n",
    "        \"\"\"Returns the potential energy of the system for given atomic\n",
    "            postions. If boxvectors are provided, adjusts box size.\"\"\"\n",
    "        if box_lengths is not None:\n",
    "            self.sim.context.setPeriodicBoxVectors(*box_lengths)\n",
    "        self.sim.context.setPositions(positions)\n",
    "        u = self.sim.context.getState(getEnergy=True).getPotentialEnergy()\n",
    "        beta_u = u.value_in_unit(unit.kilocalorie_per_mole) / self.kbt\n",
    "        return beta_u  # unitless exponent Boltzmann dist. of NVT ensemble\n"
   ]
  },
  {
   "cell_type": "code",
   "execution_count": 35,
   "metadata": {},
   "outputs": [
    {
     "name": "stdout",
     "output_type": "stream",
     "text": [
      "Minimum energy: 2.0936634071014577 kcal/mol\n"
     ]
    },
    {
     "data": {
      "text/plain": [
       "46.82150167395687"
      ]
     },
     "execution_count": 35,
     "metadata": {},
     "output_type": "execute_result"
    }
   ],
   "source": [
    "traj_path, top_path, db_path = load_md_inputs(mol_name, component)\n",
    "openmm_molecule = openMMEnergy(traj_path, top_path, db_path, temperature)\n",
    "openmm_molecule.get_energy(openmm_molecule.init_positions)"
   ]
  }
 ],
 "metadata": {
  "kernelspec": {
   "display_name": "openmm",
   "language": "python",
   "name": "python3"
  },
  "language_info": {
   "codemirror_mode": {
    "name": "ipython",
    "version": 3
   },
   "file_extension": ".py",
   "mimetype": "text/x-python",
   "name": "python",
   "nbconvert_exporter": "python",
   "pygments_lexer": "ipython3",
   "version": "3.10.14"
  }
 },
 "nbformat": 4,
 "nbformat_minor": 2
}
